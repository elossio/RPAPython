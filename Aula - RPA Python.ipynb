{
 "cells": [
  {
   "cell_type": "markdown",
   "metadata": {},
   "source": [
    "# RPA com Python\n",
    "\n",
    "- O que é RPA?\n",
    "- Por que isso é diferente de Selenium/Web-Scraping e do que vimos até agora?\n",
    "    - Pontos Positivos\n",
    "    - Pontos Negativos\n",
    "- Biblioteca usada:\n",
    "    - pip install pyautogui\n",
    "    - https://pyautogui.readthedocs.io/en/latest/\n",
    "        - Para os comandos de imagem pode ser que seja necessário instalar pip install pillow\n",
    "        - Para resolver problemas de caracteres especiais vamos usar um macete com a pyperclip\n",
    "        \n",
    "- Link com um resumo dos principais comandos: https://pyautogui.readthedocs.io/en/latest/quickstart.html"
   ]
  },
  {
   "cell_type": "markdown",
   "metadata": {},
   "source": [
    "## Desafio\n",
    "\n",
    "- Vamos automatizar a extração de informações de um sistema e envio de um relatório por e-mail\n",
    "- No nosso caso, para todo mundo conseguir fazer o mesmo programa, o nosso \"sistema\" vai ser o Gmail, mas o mesmo processo pode ser feito com qualquer programa do seu computador e qualquer sistema\n",
    "    - Passo 1: Entrar no sistema (entrar no Gmail)\n",
    "    - Passo 2: Entrar em uma aba específica do sistema onde tem o nosso relatório (Aba Contatos)\n",
    "    - Passo 3: Exportar o Relatório (Exportar Contatos)\n",
    "    - Passo 4: Pegar o relatório exportado, tratar e pegar as informações que queremos\n",
    "    - Passo 5: Preencher/Atualizar informações do sistema (No nosso caso, criar um e-mail e enviar)"
   ]
  },
  {
   "cell_type": "code",
   "execution_count": 4,
   "metadata": {},
   "outputs": [
    {
     "ename": "FileNotFoundError",
     "evalue": "[Errno 2] No such file or directory: 'logo_gmail.png'",
     "output_type": "error",
     "traceback": [
      "\u001b[1;31m---------------------------------------------------------------------------\u001b[0m",
      "\u001b[1;31mFileNotFoundError\u001b[0m                         Traceback (most recent call last)",
      "Cell \u001b[1;32mIn[4], line 36\u001b[0m\n\u001b[0;32m     32\u001b[0m pyautogui\u001b[39m.\u001b[39mclick(x \u001b[39m+\u001b[39m largura\u001b[39m/\u001b[39m\u001b[39m2\u001b[39m, y \u001b[39m+\u001b[39m altura\u001b[39m/\u001b[39m\u001b[39m2\u001b[39m)\n\u001b[0;32m     35\u001b[0m \u001b[39m#esperar o gmail\u001b[39;00m\n\u001b[1;32m---> 36\u001b[0m \u001b[39mwhile\u001b[39;00m \u001b[39mnot\u001b[39;00m pyautogui\u001b[39m.\u001b[39;49mlocateOnScreen(\u001b[39m'\u001b[39;49m\u001b[39mlogo_gmail.png\u001b[39;49m\u001b[39m'\u001b[39;49m):\n\u001b[0;32m     37\u001b[0m     time\u001b[39m.\u001b[39msleep(\u001b[39m1\u001b[39m)\n\u001b[0;32m     39\u001b[0m \u001b[39m# entrar em contatos\u001b[39;00m\n",
      "File \u001b[1;32me:\\Users\\evlos\\PycharmProjects\\RPAPython\\venv\\lib\\site-packages\\pyautogui\\__init__.py:172\u001b[0m, in \u001b[0;36mraisePyAutoGUIImageNotFoundException.<locals>.wrapper\u001b[1;34m(*args, **kwargs)\u001b[0m\n\u001b[0;32m    169\u001b[0m \u001b[39m@functools\u001b[39m\u001b[39m.\u001b[39mwraps(wrappedFunction)\n\u001b[0;32m    170\u001b[0m \u001b[39mdef\u001b[39;00m \u001b[39mwrapper\u001b[39m(\u001b[39m*\u001b[39margs, \u001b[39m*\u001b[39m\u001b[39m*\u001b[39mkwargs):\n\u001b[0;32m    171\u001b[0m     \u001b[39mtry\u001b[39;00m:\n\u001b[1;32m--> 172\u001b[0m         \u001b[39mreturn\u001b[39;00m wrappedFunction(\u001b[39m*\u001b[39margs, \u001b[39m*\u001b[39m\u001b[39m*\u001b[39mkwargs)\n\u001b[0;32m    173\u001b[0m     \u001b[39mexcept\u001b[39;00m pyscreeze\u001b[39m.\u001b[39mImageNotFoundException:\n\u001b[0;32m    174\u001b[0m         \u001b[39mraise\u001b[39;00m ImageNotFoundException\n",
      "File \u001b[1;32me:\\Users\\evlos\\PycharmProjects\\RPAPython\\venv\\lib\\site-packages\\pyautogui\\__init__.py:210\u001b[0m, in \u001b[0;36mlocateOnScreen\u001b[1;34m(*args, **kwargs)\u001b[0m\n\u001b[0;32m    208\u001b[0m \u001b[39m@raisePyAutoGUIImageNotFoundException\u001b[39m\n\u001b[0;32m    209\u001b[0m \u001b[39mdef\u001b[39;00m \u001b[39mlocateOnScreen\u001b[39m(\u001b[39m*\u001b[39margs, \u001b[39m*\u001b[39m\u001b[39m*\u001b[39mkwargs):\n\u001b[1;32m--> 210\u001b[0m     \u001b[39mreturn\u001b[39;00m pyscreeze\u001b[39m.\u001b[39mlocateOnScreen(\u001b[39m*\u001b[39margs, \u001b[39m*\u001b[39m\u001b[39m*\u001b[39mkwargs)\n",
      "File \u001b[1;32me:\\Users\\evlos\\PycharmProjects\\RPAPython\\venv\\lib\\site-packages\\pyscreeze\\__init__.py:378\u001b[0m, in \u001b[0;36mlocateOnScreen\u001b[1;34m(image, minSearchTime, **kwargs)\u001b[0m\n\u001b[0;32m    374\u001b[0m \u001b[39mtry\u001b[39;00m:\n\u001b[0;32m    375\u001b[0m     screenshotIm \u001b[39m=\u001b[39m screenshot(\n\u001b[0;32m    376\u001b[0m         region\u001b[39m=\u001b[39m\u001b[39mNone\u001b[39;00m\n\u001b[0;32m    377\u001b[0m     )  \u001b[39m# the locateAll() function must handle cropping to return accurate coordinates, so don't pass a region here.\u001b[39;00m\n\u001b[1;32m--> 378\u001b[0m     retVal \u001b[39m=\u001b[39m locate(image, screenshotIm, \u001b[39m*\u001b[39m\u001b[39m*\u001b[39mkwargs)\n\u001b[0;32m    379\u001b[0m     \u001b[39mtry\u001b[39;00m:\n\u001b[0;32m    380\u001b[0m         screenshotIm\u001b[39m.\u001b[39mfp\u001b[39m.\u001b[39mclose()\n",
      "File \u001b[1;32me:\\Users\\evlos\\PycharmProjects\\RPAPython\\venv\\lib\\site-packages\\pyscreeze\\__init__.py:356\u001b[0m, in \u001b[0;36mlocate\u001b[1;34m(needleImage, haystackImage, **kwargs)\u001b[0m\n\u001b[0;32m    354\u001b[0m \u001b[39m# Note: The gymnastics in this function is because we want to make sure to exhaust the iterator so that the needle and haystack files are closed in locateAll.\u001b[39;00m\n\u001b[0;32m    355\u001b[0m kwargs[\u001b[39m'\u001b[39m\u001b[39mlimit\u001b[39m\u001b[39m'\u001b[39m] \u001b[39m=\u001b[39m \u001b[39m1\u001b[39m\n\u001b[1;32m--> 356\u001b[0m points \u001b[39m=\u001b[39m \u001b[39mtuple\u001b[39;49m(locateAll(needleImage, haystackImage, \u001b[39m*\u001b[39;49m\u001b[39m*\u001b[39;49mkwargs))\n\u001b[0;32m    357\u001b[0m \u001b[39mif\u001b[39;00m \u001b[39mlen\u001b[39m(points) \u001b[39m>\u001b[39m \u001b[39m0\u001b[39m:\n\u001b[0;32m    358\u001b[0m     \u001b[39mreturn\u001b[39;00m points[\u001b[39m0\u001b[39m]\n",
      "File \u001b[1;32me:\\Users\\evlos\\PycharmProjects\\RPAPython\\venv\\lib\\site-packages\\pyscreeze\\__init__.py:256\u001b[0m, in \u001b[0;36m_locateAll_pillow\u001b[1;34m(needleImage, haystackImage, grayscale, limit, region, step, confidence)\u001b[0m\n\u001b[0;32m    253\u001b[0m needleFileObj \u001b[39m=\u001b[39m \u001b[39mNone\u001b[39;00m\n\u001b[0;32m    254\u001b[0m \u001b[39mif\u001b[39;00m \u001b[39misinstance\u001b[39m(needleImage, (\u001b[39mstr\u001b[39m, unicode)):\n\u001b[0;32m    255\u001b[0m     \u001b[39m# 'image' is a filename, load the Image object\u001b[39;00m\n\u001b[1;32m--> 256\u001b[0m     needleFileObj \u001b[39m=\u001b[39m \u001b[39mopen\u001b[39;49m(needleImage, \u001b[39m'\u001b[39;49m\u001b[39mrb\u001b[39;49m\u001b[39m'\u001b[39;49m)\n\u001b[0;32m    257\u001b[0m     needleImage \u001b[39m=\u001b[39m Image\u001b[39m.\u001b[39mopen(needleFileObj)\n\u001b[0;32m    259\u001b[0m haystackFileObj \u001b[39m=\u001b[39m \u001b[39mNone\u001b[39;00m\n",
      "\u001b[1;31mFileNotFoundError\u001b[0m: [Errno 2] No such file or directory: 'logo_gmail.png'"
     ]
    }
   ],
   "source": [
    "import pyautogui\n",
    "import time\n",
    "\n",
    "# pyautogui.write() -> escreve\n",
    "# pyautogui.click -> clica\n",
    "# pyautogui.locateOnScreen -> identifica uma imagem na sua tela\n",
    "# pyautogui.hotkey -> usa atalhos do teclado (combinação de teclas)\n",
    "# pyautogui.press -> aperta um botão do teclado\n",
    "# print(pyautogui.KEYBOARD_KEYS)\n",
    "\n",
    "pyautogui.alert('O código vai começar. Não mexa em NADA enquanto o código tiver rodando. Quando finalizar, eu te aviso')\n",
    "\n",
    "pyautogui.PAUSE = 1\n",
    "# apertar o windows do teclado\n",
    "pyautogui.press('win')\n",
    "# digitar chrome\n",
    "pyautogui.write(\"chrome\")\n",
    "# apertar enter\n",
    "pyautogui.press('enter')\n",
    "\n",
    "# entrar no Gmail\n",
    "pyautogui.write('gmail')\n",
    "pyautogui.press('enter')\n",
    "\n",
    "#esperar carregar o google\n",
    "while not pyautogui.locateOnScreen('busca_google.png'):\n",
    "    time.sleep(1)\n",
    "\n",
    "# localizar a imagem -> vai te dar 4 informações: posicao x, posicao y, largura e altura\n",
    "x, y, largura, altura = pyautogui.locateOnScreen('busca_google.png')\n",
    "# clicar no meio da imagem\n",
    "pyautogui.click(x + largura/2, y + altura/2)\n",
    "\n",
    "\n",
    "#esperar o gmail\n",
    "while not pyautogui.locateOnScreen('logo_gmail.png'):\n",
    "    time.sleep(1)\n",
    "\n",
    "# entrar em contatos\n",
    "x, y, largura, altura = pyautogui.locateOnScreen('pontinhos_menu.png')\n",
    "pyautogui.click(x + largura/2, y + altura/2)\n",
    "\n",
    "time.sleep(1)\n",
    "x, y, largura, altura = pyautogui.locateOnScreen('contatos.png')\n",
    "pyautogui.click(x + largura/2, y + altura/2)\n",
    "\n",
    "#esperar o contatos\n",
    "while not pyautogui.locateOnScreen('tela_contatos.png'):\n",
    "    time.sleep(1)\n",
    "\n",
    "# exportar os contatos\n",
    "x, y, largura, altura = pyautogui.locateOnScreen('exportar.png')\n",
    "pyautogui.click(x + largura/2, y + altura/2)\n",
    "x, y, largura, altura = pyautogui.locateOnScreen('confirmar_exportar.png')\n",
    "pyautogui.click(x + largura/2, y + altura/2)"
   ]
  },
  {
   "cell_type": "markdown",
   "metadata": {},
   "source": [
    "### Agora vamos escrever o e-mail"
   ]
  },
  {
   "cell_type": "code",
   "execution_count": 34,
   "metadata": {},
   "outputs": [
    {
     "data": {
      "text/html": [
       "<div>\n",
       "<style scoped>\n",
       "    .dataframe tbody tr th:only-of-type {\n",
       "        vertical-align: middle;\n",
       "    }\n",
       "\n",
       "    .dataframe tbody tr th {\n",
       "        vertical-align: top;\n",
       "    }\n",
       "\n",
       "    .dataframe thead th {\n",
       "        text-align: right;\n",
       "    }\n",
       "</style>\n",
       "<table border=\"1\" class=\"dataframe\">\n",
       "  <thead>\n",
       "    <tr style=\"text-align: right;\">\n",
       "      <th></th>\n",
       "      <th>Name</th>\n",
       "      <th>Given Name</th>\n",
       "      <th>Family Name</th>\n",
       "      <th>Group Membership</th>\n",
       "      <th>E-mail 1 - Type</th>\n",
       "      <th>E-mail 1 - Value</th>\n",
       "      <th>Phone 1 - Value</th>\n",
       "      <th>Organization 1 - Name</th>\n",
       "      <th>Organization 1 - Title</th>\n",
       "    </tr>\n",
       "  </thead>\n",
       "  <tbody>\n",
       "    <tr>\n",
       "      <th>0</th>\n",
       "      <td>Teste Lira</td>\n",
       "      <td>Teste</td>\n",
       "      <td>Lira</td>\n",
       "      <td>* myContacts</td>\n",
       "      <td>* Home</td>\n",
       "      <td>pythonimpressionador+lira@gmail.com</td>\n",
       "      <td>21 98561-0481</td>\n",
       "      <td>Hashtag</td>\n",
       "      <td>Programador</td>\n",
       "    </tr>\n",
       "  </tbody>\n",
       "</table>\n",
       "</div>"
      ],
      "text/plain": [
       "         Name Given Name Family Name Group Membership E-mail 1 - Type  \\\n",
       "0  Teste Lira      Teste        Lira     * myContacts          * Home   \n",
       "\n",
       "                      E-mail 1 - Value Phone 1 - Value Organization 1 - Name  \\\n",
       "0  pythonimpressionador+lira@gmail.com   21 98561-0481               Hashtag   \n",
       "\n",
       "  Organization 1 - Title  \n",
       "0            Programador  "
      ]
     },
     "metadata": {},
     "output_type": "display_data"
    },
    {
     "data": {
      "text/plain": [
       "'OK'"
      ]
     },
     "execution_count": 34,
     "metadata": {},
     "output_type": "execute_result"
    }
   ],
   "source": [
    "import pandas as pd\n",
    "import pyperclip\n",
    "\n",
    "time.sleep(2)\n",
    "df = pd.read_csv(r'C://Users/joaop/Downloads/contacts.csv')\n",
    "df = df.dropna(axis=1)\n",
    "display(df)\n",
    "\n",
    "pyautogui.hotkey('ctrl', 'pgup')\n",
    "\n",
    "for email in df['E-mail 1 - Value']:\n",
    "    #clicar no botão escrever\n",
    "    time.sleep(1)\n",
    "    x, y, largura, altura = pyautogui.locateOnScreen('escrever.png')\n",
    "    pyautogui.click(x + largura/2, y + altura/2)\n",
    "    time.sleep(1)\n",
    "    # escrever o email\n",
    "    pyautogui.write(email)\n",
    "    # enter\n",
    "    pyautogui.press('enter')\n",
    "    #tab para o assunto do email\n",
    "    pyautogui.press('tab')\n",
    "    pyautogui.write('Lira Caloteiro')\n",
    "    #tab para o corpo do email\n",
    "    pyautogui.press('tab')\n",
    "    texto = \"\"\"\n",
    "    Coe João Lira,\n",
    "    \n",
    "    Para de dar calote na Hashtag e paga as parcelas aí, namoral.\n",
    "    \n",
    "    Abs e tmj\"\"\"\n",
    "    pyperclip.copy(texto)\n",
    "    pyautogui.hotkey('ctrl', 'v')\n",
    "    pyautogui.hotkey('ctrl', 'enter')\n",
    "    \n",
    "    \n",
    "pyautogui.alert('O código terminou, pode pegar o seu computador de volta')"
   ]
  },
  {
   "cell_type": "markdown",
   "metadata": {},
   "source": [
    "### E se eu já tiver com a aba aberta, como que eu coloco ela na frente?"
   ]
  },
  {
   "cell_type": "code",
   "execution_count": 42,
   "metadata": {},
   "outputs": [
    {
     "name": "stdout",
     "output_type": "stream",
     "text": [
      "Achei o paint\n"
     ]
    }
   ],
   "source": [
    "while not pyautogui.locateOnScreen('paint.png'):\n",
    "    pyautogui.hotkey('alt', 'shift', 'tab') \n",
    "print(\"Achei o paint\")"
   ]
  },
  {
   "cell_type": "markdown",
   "metadata": {},
   "source": [
    "### Como descobrir a posição do mouse do local que eu quero"
   ]
  },
  {
   "cell_type": "code",
   "execution_count": 40,
   "metadata": {},
   "outputs": [
    {
     "name": "stdout",
     "output_type": "stream",
     "text": [
      "Point(x=3418, y=259)\n"
     ]
    }
   ],
   "source": [
    "#pyautogui.click(2470, 38)\n",
    "print(pyautogui.position())"
   ]
  }
 ],
 "metadata": {
  "kernelspec": {
   "display_name": "Python 3",
   "language": "python",
   "name": "python3"
  },
  "language_info": {
   "codemirror_mode": {
    "name": "ipython",
    "version": 3
   },
   "file_extension": ".py",
   "mimetype": "text/x-python",
   "name": "python",
   "nbconvert_exporter": "python",
   "pygments_lexer": "ipython3",
   "version": "3.9.13"
  }
 },
 "nbformat": 4,
 "nbformat_minor": 4
}
